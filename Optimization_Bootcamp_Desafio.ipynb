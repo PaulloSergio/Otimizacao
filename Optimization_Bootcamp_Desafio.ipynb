{
  "nbformat": 4,
  "nbformat_minor": 0,
  "metadata": {
    "colab": {
      "name": " Optimization Bootcamp - Desafio.ipynb",
      "provenance": [],
      "collapsed_sections": [],
      "toc_visible": true,
      "include_colab_link": true
    },
    "kernelspec": {
      "name": "python3",
      "display_name": "Python 3"
    },
    "language_info": {
      "name": "python"
    }
  },
  "cells": [
    {
      "cell_type": "markdown",
      "metadata": {
        "id": "view-in-github",
        "colab_type": "text"
      },
      "source": [
        "<a href=\"https://colab.research.google.com/github/PaulloSergio/Otimizacao/blob/main/Optimization_Bootcamp_Desafio.ipynb\" target=\"_parent\"><img src=\"https://colab.research.google.com/assets/colab-badge.svg\" alt=\"Open In Colab\"/></a>"
      ]
    },
    {
      "cell_type": "markdown",
      "source": [
        "# Desafio \n",
        "\n",
        "Considerando um capital para investimento de R\\$1.000.000 e as seguintes opções de investimento:"
      ],
      "metadata": {
        "id": "qC5tkZ8WTnhT"
      }
    },
    {
      "cell_type": "markdown",
      "source": [
        "| Opção  | Descrição                                         | Custo do investimento (R\\$) | Retorno esperado (R\\$) |\n",
        "|:-------:|---------------------------------------------------|:---------------------------:|:----------------------:|\n",
        "| 1     | Ampliação da capacidade do armazém ZDP em 5%      |           470.000           |         410.000        |\n",
        "| 2     | Ampliação da capacidade do armazém MGL em 7%      |           400.000           |         330.000        |\n",
        "| 3     | Compra de empilhadeira                            |           170.000           |         140.000        |\n",
        "| 4     | Projeto de P&D I                                  |           270.000           |         250.000        |\n",
        "| 5     | Projeto de P&D II                                 |           340.000           |         320.000        |\n",
        "| 6     | Aquisição de novos equipamentos                   |           230.000           |         320.000        |\n",
        "| 7     | Capacitação de funcionários  |            50.000           |         90.000         |\n",
        "| 8     | Ampliação da estrutura de carga rodoviária        |           440.000           |         190.000        |"
      ],
      "metadata": {
        "id": "9UwOH7Suk0y-"
      }
    },
    {
      "cell_type": "markdown",
      "source": [
        "Desenvolva um algoritmo de otimização para selecionar os projetos que maximizam o retorno total esperado, considerando que:\n",
        "\n",
        "* Se o investimento 1 for selecionado, então o investimento 5 não deve ser;\n",
        "* Se o investimento 2 for selecionado, então o investimento 4 também deve ser.\n"
      ],
      "metadata": {
        "id": "c_DodbyMnlKI"
      }
    },
    {
      "cell_type": "markdown",
      "source": [
        "Prepare uma apresentação demonstrando os resultados da atividade. Sua apresentação deve ser no formato de **pitch**, deve durar **até 15 minutos**, e deve conter as seguintes seções:\n",
        "  * \"Quem sou eu?\": uma breve apresentação sobre você e sua formação;\n",
        "  * \"Qual o problema estou resolvendo?\";\n",
        "  * \"Como eu resolvi o problema?\";\n",
        "  * Resultados e Análises."
      ],
      "metadata": {
        "id": "f26wYtz6pL81"
      }
    },
    {
      "cell_type": "markdown",
      "source": [
        "## Classe de dados"
      ],
      "metadata": {
        "id": "ZqOItkc1D_50"
      }
    },
    {
      "cell_type": "code",
      "source": [
        "from dataclasses import dataclass\n",
        "\n",
        "@dataclass\n",
        "class OpcaoInvestimento:\n",
        "    descricao: str\n",
        "    custo: float\n",
        "    retorno: float"
      ],
      "metadata": {
        "id": "MYNQCArSDWoo"
      },
      "execution_count": 76,
      "outputs": []
    },
    {
      "cell_type": "markdown",
      "source": [
        "## Transformando os dados em uma tabela"
      ],
      "metadata": {
        "id": "pluBn3pgGF6G"
      }
    },
    {
      "cell_type": "code",
      "source": [
        "import pandas as pd\n",
        "from typing import List\n",
        "\n",
        "def items_to_table(items: List[OpcaoInvestimento]) -> pd.DataFrame:\n",
        "    records = [{\n",
        "            'Descrição': i.descricao,\n",
        "            'Custo ($)': i.custo,\n",
        "            'Retorno ($)': i.retorno } for i in items]\n",
        "            \n",
        "    records.append({\n",
        "        'Descrição': 'Total',\n",
        "        'Custo ($)': sum(i.custo for i in items),\n",
        "        'Retorno ($)': sum(i.retorno for i in items)\n",
        "    })\n",
        "    return pd.DataFrame.from_records(records)"
      ],
      "metadata": {
        "id": "Rk7q6--zTdUw"
      },
      "execution_count": 77,
      "outputs": []
    },
    {
      "cell_type": "code",
      "source": [
        "# Variávies do problema \n",
        "\n",
        "custo_maximo = 1000000\n",
        "\n",
        "custo = [470000, 400000, 170000, 270000, 340000, 230000, 50000, 440000]\n",
        "\n",
        "retorno = [410000, 330000, 140000, 250000, 320000, 320000, 90000, 190000]\n",
        "\n",
        "\n",
        "descricao = ['Ampliação da capacidade do armazém ZDP em 5%',\n",
        "             'Ampliação da capacidade do armazém MGL em 7%',\n",
        "             'Compra de empilhadeira', 'Projeto de P&D I',\n",
        "             'Projeto de P&D II', 'Aquisição de novos equipamentos',\n",
        "             'Capacitação de funcionários',\n",
        "             'Ampliação da estrutura de carga rodoviária']\n",
        "\n",
        "available_items = [OpcaoInvestimento(f'{descricao[i]}', c, r) for i, (c, r) in enumerate(zip(custo, retorno))]\n",
        "\n",
        "items_to_table(available_items)"
      ],
      "metadata": {
        "id": "8KEcphVbG8v2",
        "colab": {
          "base_uri": "https://localhost:8080/",
          "height": 332
        },
        "outputId": "0847ae4e-e618-4f96-b247-94b64ddb1a12"
      },
      "execution_count": 78,
      "outputs": [
        {
          "output_type": "execute_result",
          "data": {
            "text/plain": [
              "                                      Descrição  Custo ($)  Retorno ($)\n",
              "0  Ampliação da capacidade do armazém ZDP em 5%     470000       410000\n",
              "1  Ampliação da capacidade do armazém MGL em 7%     400000       330000\n",
              "2                        Compra de empilhadeira     170000       140000\n",
              "3                              Projeto de P&D I     270000       250000\n",
              "4                             Projeto de P&D II     340000       320000\n",
              "5               Aquisição de novos equipamentos     230000       320000\n",
              "6                   Capacitação de funcionários      50000        90000\n",
              "7    Ampliação da estrutura de carga rodoviária     440000       190000\n",
              "8                                         Total    2370000      2050000"
            ],
            "text/html": [
              "\n",
              "  <div id=\"df-b294ffac-90d5-44a9-94bc-1737e4b654f3\">\n",
              "    <div class=\"colab-df-container\">\n",
              "      <div>\n",
              "<style scoped>\n",
              "    .dataframe tbody tr th:only-of-type {\n",
              "        vertical-align: middle;\n",
              "    }\n",
              "\n",
              "    .dataframe tbody tr th {\n",
              "        vertical-align: top;\n",
              "    }\n",
              "\n",
              "    .dataframe thead th {\n",
              "        text-align: right;\n",
              "    }\n",
              "</style>\n",
              "<table border=\"1\" class=\"dataframe\">\n",
              "  <thead>\n",
              "    <tr style=\"text-align: right;\">\n",
              "      <th></th>\n",
              "      <th>Descrição</th>\n",
              "      <th>Custo ($)</th>\n",
              "      <th>Retorno ($)</th>\n",
              "    </tr>\n",
              "  </thead>\n",
              "  <tbody>\n",
              "    <tr>\n",
              "      <th>0</th>\n",
              "      <td>Ampliação da capacidade do armazém ZDP em 5%</td>\n",
              "      <td>470000</td>\n",
              "      <td>410000</td>\n",
              "    </tr>\n",
              "    <tr>\n",
              "      <th>1</th>\n",
              "      <td>Ampliação da capacidade do armazém MGL em 7%</td>\n",
              "      <td>400000</td>\n",
              "      <td>330000</td>\n",
              "    </tr>\n",
              "    <tr>\n",
              "      <th>2</th>\n",
              "      <td>Compra de empilhadeira</td>\n",
              "      <td>170000</td>\n",
              "      <td>140000</td>\n",
              "    </tr>\n",
              "    <tr>\n",
              "      <th>3</th>\n",
              "      <td>Projeto de P&amp;D I</td>\n",
              "      <td>270000</td>\n",
              "      <td>250000</td>\n",
              "    </tr>\n",
              "    <tr>\n",
              "      <th>4</th>\n",
              "      <td>Projeto de P&amp;D II</td>\n",
              "      <td>340000</td>\n",
              "      <td>320000</td>\n",
              "    </tr>\n",
              "    <tr>\n",
              "      <th>5</th>\n",
              "      <td>Aquisição de novos equipamentos</td>\n",
              "      <td>230000</td>\n",
              "      <td>320000</td>\n",
              "    </tr>\n",
              "    <tr>\n",
              "      <th>6</th>\n",
              "      <td>Capacitação de funcionários</td>\n",
              "      <td>50000</td>\n",
              "      <td>90000</td>\n",
              "    </tr>\n",
              "    <tr>\n",
              "      <th>7</th>\n",
              "      <td>Ampliação da estrutura de carga rodoviária</td>\n",
              "      <td>440000</td>\n",
              "      <td>190000</td>\n",
              "    </tr>\n",
              "    <tr>\n",
              "      <th>8</th>\n",
              "      <td>Total</td>\n",
              "      <td>2370000</td>\n",
              "      <td>2050000</td>\n",
              "    </tr>\n",
              "  </tbody>\n",
              "</table>\n",
              "</div>\n",
              "      <button class=\"colab-df-convert\" onclick=\"convertToInteractive('df-b294ffac-90d5-44a9-94bc-1737e4b654f3')\"\n",
              "              title=\"Convert this dataframe to an interactive table.\"\n",
              "              style=\"display:none;\">\n",
              "        \n",
              "  <svg xmlns=\"http://www.w3.org/2000/svg\" height=\"24px\"viewBox=\"0 0 24 24\"\n",
              "       width=\"24px\">\n",
              "    <path d=\"M0 0h24v24H0V0z\" fill=\"none\"/>\n",
              "    <path d=\"M18.56 5.44l.94 2.06.94-2.06 2.06-.94-2.06-.94-.94-2.06-.94 2.06-2.06.94zm-11 1L8.5 8.5l.94-2.06 2.06-.94-2.06-.94L8.5 2.5l-.94 2.06-2.06.94zm10 10l.94 2.06.94-2.06 2.06-.94-2.06-.94-.94-2.06-.94 2.06-2.06.94z\"/><path d=\"M17.41 7.96l-1.37-1.37c-.4-.4-.92-.59-1.43-.59-.52 0-1.04.2-1.43.59L10.3 9.45l-7.72 7.72c-.78.78-.78 2.05 0 2.83L4 21.41c.39.39.9.59 1.41.59.51 0 1.02-.2 1.41-.59l7.78-7.78 2.81-2.81c.8-.78.8-2.07 0-2.86zM5.41 20L4 18.59l7.72-7.72 1.47 1.35L5.41 20z\"/>\n",
              "  </svg>\n",
              "      </button>\n",
              "      \n",
              "  <style>\n",
              "    .colab-df-container {\n",
              "      display:flex;\n",
              "      flex-wrap:wrap;\n",
              "      gap: 12px;\n",
              "    }\n",
              "\n",
              "    .colab-df-convert {\n",
              "      background-color: #E8F0FE;\n",
              "      border: none;\n",
              "      border-radius: 50%;\n",
              "      cursor: pointer;\n",
              "      display: none;\n",
              "      fill: #1967D2;\n",
              "      height: 32px;\n",
              "      padding: 0 0 0 0;\n",
              "      width: 32px;\n",
              "    }\n",
              "\n",
              "    .colab-df-convert:hover {\n",
              "      background-color: #E2EBFA;\n",
              "      box-shadow: 0px 1px 2px rgba(60, 64, 67, 0.3), 0px 1px 3px 1px rgba(60, 64, 67, 0.15);\n",
              "      fill: #174EA6;\n",
              "    }\n",
              "\n",
              "    [theme=dark] .colab-df-convert {\n",
              "      background-color: #3B4455;\n",
              "      fill: #D2E3FC;\n",
              "    }\n",
              "\n",
              "    [theme=dark] .colab-df-convert:hover {\n",
              "      background-color: #434B5C;\n",
              "      box-shadow: 0px 1px 3px 1px rgba(0, 0, 0, 0.15);\n",
              "      filter: drop-shadow(0px 1px 2px rgba(0, 0, 0, 0.3));\n",
              "      fill: #FFFFFF;\n",
              "    }\n",
              "  </style>\n",
              "\n",
              "      <script>\n",
              "        const buttonEl =\n",
              "          document.querySelector('#df-b294ffac-90d5-44a9-94bc-1737e4b654f3 button.colab-df-convert');\n",
              "        buttonEl.style.display =\n",
              "          google.colab.kernel.accessAllowed ? 'block' : 'none';\n",
              "\n",
              "        async function convertToInteractive(key) {\n",
              "          const element = document.querySelector('#df-b294ffac-90d5-44a9-94bc-1737e4b654f3');\n",
              "          const dataTable =\n",
              "            await google.colab.kernel.invokeFunction('convertToInteractive',\n",
              "                                                     [key], {});\n",
              "          if (!dataTable) return;\n",
              "\n",
              "          const docLinkHtml = 'Like what you see? Visit the ' +\n",
              "            '<a target=\"_blank\" href=https://colab.research.google.com/notebooks/data_table.ipynb>data table notebook</a>'\n",
              "            + ' to learn more about interactive tables.';\n",
              "          element.innerHTML = '';\n",
              "          dataTable['output_type'] = 'display_data';\n",
              "          await google.colab.output.renderOutput(dataTable, element);\n",
              "          const docLink = document.createElement('div');\n",
              "          docLink.innerHTML = docLinkHtml;\n",
              "          element.appendChild(docLink);\n",
              "        }\n",
              "      </script>\n",
              "    </div>\n",
              "  </div>\n",
              "  "
            ]
          },
          "metadata": {},
          "execution_count": 78
        }
      ]
    },
    {
      "cell_type": "markdown",
      "source": [
        "## Modelagem"
      ],
      "metadata": {
        "id": "crOpFnUK2SL1"
      }
    },
    {
      "cell_type": "markdown",
      "source": [
        "## Parâmetros \n",
        "c = custo \n",
        "\n",
        "r = retorno\n",
        "\n",
        "d = descrição\n",
        "\n",
        "Se o investimento 1 for selecionado, então o investimento 5 não deve ser;\n",
        "\n",
        "Se o investimento 2 for selecionado, então o investimento 4 também deve ser.\n",
        "\n",
        "\n",
        "**Formulação do problema**:\n",
        "\n",
        "$$ \\max   \\; retorno $$\n",
        "$$ \\text{subject to: } custototal < 1000000 $$"
      ],
      "metadata": {
        "id": "MVkbd2cH2Wpb"
      }
    },
    {
      "cell_type": "markdown",
      "source": [
        ""
      ],
      "metadata": {
        "id": "qG8v7FQVM_jJ"
      }
    },
    {
      "cell_type": "markdown",
      "source": [
        "## Construtor do problema\n"
      ],
      "metadata": {
        "id": "TSbVPVVZ9O2r"
      }
    },
    {
      "cell_type": "code",
      "source": [
        "!pip install science-optimization"
      ],
      "metadata": {
        "id": "20iDUPEj9Vwy",
        "colab": {
          "base_uri": "https://localhost:8080/"
        },
        "outputId": "a2c7e63a-ffd2-4098-c204-da9d3444a07a"
      },
      "execution_count": 79,
      "outputs": [
        {
          "output_type": "stream",
          "name": "stdout",
          "text": [
            "Looking in indexes: https://pypi.org/simple, https://us-python.pkg.dev/colab-wheels/public/simple/\n",
            "Requirement already satisfied: science-optimization in /usr/local/lib/python3.7/dist-packages (0.8.0)\n",
            "Requirement already satisfied: Pillow~=8.4 in /usr/local/lib/python3.7/dist-packages (from science-optimization) (8.4.0)\n",
            "Requirement already satisfied: matplotlib~=3.4 in /usr/local/lib/python3.7/dist-packages (from science-optimization) (3.5.3)\n",
            "Requirement already satisfied: python-dateutil~=2.8 in /usr/local/lib/python3.7/dist-packages (from science-optimization) (2.8.2)\n",
            "Requirement already satisfied: decorator~=5.1 in /usr/local/lib/python3.7/dist-packages (from science-optimization) (5.1.1)\n",
            "Requirement already satisfied: PyWavelets~=1.1 in /usr/local/lib/python3.7/dist-packages (from science-optimization) (1.3.0)\n",
            "Requirement already satisfied: pandas~=1.3 in /usr/local/lib/python3.7/dist-packages (from science-optimization) (1.3.5)\n",
            "Requirement already satisfied: kiwisolver~=1.3 in /usr/local/lib/python3.7/dist-packages (from science-optimization) (1.4.4)\n",
            "Requirement already satisfied: ortools~=9.1 in /usr/local/lib/python3.7/dist-packages (from science-optimization) (9.4.1874)\n",
            "Requirement already satisfied: pybind11>=2.2 in /usr/local/lib/python3.7/dist-packages (from science-optimization) (2.10.0)\n",
            "Requirement already satisfied: networkx~=2.6 in /usr/local/lib/python3.7/dist-packages (from science-optimization) (2.6.3)\n",
            "Requirement already satisfied: protobuf~=3.19 in /usr/local/lib/python3.7/dist-packages (from science-optimization) (3.20.1)\n",
            "Requirement already satisfied: joblib~=1.1 in /usr/local/lib/python3.7/dist-packages (from science-optimization) (1.1.0)\n",
            "Requirement already satisfied: pytz~=2021.3 in /usr/local/lib/python3.7/dist-packages (from science-optimization) (2021.3)\n",
            "Requirement already satisfied: xlrd~=2.0 in /usr/local/lib/python3.7/dist-packages (from science-optimization) (2.0.1)\n",
            "Requirement already satisfied: numpy~=1.21 in /usr/local/lib/python3.7/dist-packages (from science-optimization) (1.21.6)\n",
            "Requirement already satisfied: cycler~=0.11 in /usr/local/lib/python3.7/dist-packages (from science-optimization) (0.11.0)\n",
            "Requirement already satisfied: scipy~=1.7 in /usr/local/lib/python3.7/dist-packages (from science-optimization) (1.7.3)\n",
            "Requirement already satisfied: six~=1.16 in /usr/local/lib/python3.7/dist-packages (from science-optimization) (1.16.0)\n",
            "Requirement already satisfied: pyparsing~=3.0 in /usr/local/lib/python3.7/dist-packages (from science-optimization) (3.0.9)\n",
            "Requirement already satisfied: typing-extensions in /usr/local/lib/python3.7/dist-packages (from kiwisolver~=1.3->science-optimization) (4.1.1)\n",
            "Requirement already satisfied: fonttools>=4.22.0 in /usr/local/lib/python3.7/dist-packages (from matplotlib~=3.4->science-optimization) (4.36.0)\n",
            "Requirement already satisfied: packaging>=20.0 in /usr/local/lib/python3.7/dist-packages (from matplotlib~=3.4->science-optimization) (21.3)\n",
            "Requirement already satisfied: absl-py>=0.13 in /usr/local/lib/python3.7/dist-packages (from ortools~=9.1->science-optimization) (1.2.0)\n"
          ]
        }
      ]
    },
    {
      "cell_type": "code",
      "source": [
        "from science_optimization.builder import (\n",
        "    BuilderOptimizationProblem,\n",
        "    Variable,\n",
        "    Constraint,\n",
        "    Objective,\n",
        "    OptimizationProblem\n",
        ")\n",
        "from science_optimization.function import (\n",
        "    FunctionsComposite, \n",
        "    LinearFunction,\n",
        ")\n",
        "from science_optimization.solvers import Optimizer\n",
        "from science_optimization.algorithms.linear_programming import Glop\n",
        "import numpy as np\n",
        "\n",
        "class Investiment(BuilderOptimizationProblem):\n",
        "  def __init__( # Metódo construtor\n",
        "      self,\n",
        "      custo_maximo: float,\n",
        "      available_items: List[OpcaoInvestimento]):\n",
        "    \n",
        "    self.__custo_maximo = custo_maximo\n",
        "    self.__items = available_items\n",
        "\n",
        "  \n",
        "  @property\n",
        "  def __num_vars(self) -> int:\n",
        "    return len(self.__items)\n",
        "\n",
        "  @property\n",
        "  def __custo(self) -> np.array:\n",
        "    return np.array([item.custo for item in self.__items]\n",
        "                    ).reshape(-1, 1)\n",
        "  \n",
        "  @property\n",
        "  def __retorno(self) -> np.array:\n",
        "    return np.array([item.retorno for item in self.__items]\n",
        "                    ).reshape(-1, 1)\n",
        "\n",
        "  def build_variables(self):\n",
        "    x_min = np.zeros((self.__num_vars, 1))\n",
        "    x_max = np.ones((self.__num_vars, 1))\n",
        "    x_type=['d']*self.__num_vars # Discrete variable\n",
        "    variables = Variable(x_min, x_max, x_type)\n",
        "    return variables\n",
        "  \n",
        "  def build_constraints(self) -> Constraint:\n",
        "        \"\"\"Custos cannot exceed custo_maximo\"\"\"\n",
        "        # c - c_m <= 0\n",
        "        constraint = LinearFunction(c=self.__custo, d=-self.__custo_maximo)\n",
        "        ineq_cons = FunctionsComposite()\n",
        "        ineq_cons.add(constraint)\n",
        "        constraints =Constraint(ineq_cons=ineq_cons)\n",
        "       \n",
        "\n",
        "        return constraints\n",
        "\n",
        "  def build_objectives(self) -> Objective:\n",
        "      # minimize -v*x\n",
        "      obj_fun = LinearFunction(c=-self.__retorno)\n",
        "\n",
        "      obj_funs = FunctionsComposite()\n",
        "      obj_funs.add(obj_fun)\n",
        "      objective = Objective(objective=obj_funs)\n",
        "\n",
        "      return objective"
      ],
      "metadata": {
        "id": "AefUyxxI9cpV"
      },
      "execution_count": 80,
      "outputs": []
    },
    {
      "cell_type": "code",
      "source": [
        "def optimization_problem(\n",
        "    custo_maximo: float,\n",
        "    available_items: List[OpcaoInvestimento],\n",
        "    verbose: bool = False\n",
        ") -> OptimizationProblem:\n",
        "    investiment = Investiment(custo_maximo, available_items)\n",
        "    problem = OptimizationProblem(builder=investiment)\n",
        "    if verbose:\n",
        "        print(problem.info())\n",
        "    return problem"
      ],
      "metadata": {
        "id": "FDH-Mva9Cu0I"
      },
      "execution_count": 81,
      "outputs": []
    },
    {
      "cell_type": "markdown",
      "source": [
        "## Otimização"
      ],
      "metadata": {
        "id": "NLz2K0fcDMyh"
      }
    },
    {
      "cell_type": "code",
      "source": [
        "def run_optimization(\n",
        "    problem: OptimizationProblem,\n",
        "    verbose: bool = False,\n",
        ") -> np.array:\n",
        "    optimizer = Optimizer(\n",
        "        opt_problem=problem,\n",
        "        algorithm=Glop()\n",
        "    )\n",
        "    results = optimizer.optimize()\n",
        "    decision_variables = results.x.ravel()\n",
        "\n",
        "    def rest(a, b):\n",
        "      if decision_variables[1] == True and decision_variables[b] == False :\n",
        "        ret = 2\n",
        "        j = 0\n",
        "        retornox = 2000000\n",
        "        for item, item_was in zip(available_items, decision_variables):\n",
        "          if item_was:\n",
        "            x = (item.custo / item.retorno)\n",
        "            if x <= ret and item.custo >= a  and j!=b and item.retorno < retornox:\n",
        "              retornox = item.retorno\n",
        "              z = j\n",
        "              j += 1\n",
        "            else:\n",
        "              j += 1\n",
        "          else:\n",
        "            j += 1    \n",
        "        decision_variables[z] = 0\n",
        "        decision_variables[3] = 1\n",
        "    rest(270000, 3)\n",
        "    if verbose:\n",
        "      print(f\"Decision variable:{decision_variables}\")\n",
        "    return decision_variables"
      ],
      "metadata": {
        "id": "PVV0zgg8DRmv"
      },
      "execution_count": 82,
      "outputs": []
    },
    {
      "cell_type": "code",
      "source": [
        "def investiment_milp(\n",
        "    custo_maximo: float, \n",
        "    items: List[OpcaoInvestimento],\n",
        "    verbose:bool = False) -> List[OpcaoInvestimento]:\n",
        "    \n",
        "    problem = optimization_problem(custo_maximo, \n",
        "                                   available_items, \n",
        "                                   verbose)\n",
        "    decision_variables = run_optimization(problem, verbose,)\n",
        "    \n",
        "    if decision_variables[0] == True and decision_variables[4] == True:\n",
        "      for item, item_was in zip(available_items, decision_variables):\n",
        "        if available_items[0]:\n",
        "          x = (item.custo / item.retorno)\n",
        "        if available_items[4]:\n",
        "          y = (item.custo / item.retorno)\n",
        "      if x >= y:\n",
        "        available_items.pop(4)\n",
        "        problem = optimization_problem(custo_maximo, \n",
        "                                   available_items, \n",
        "                                   verbose)\n",
        "        decision_variables = run_optimization(problem, verbose)\n",
        "      else:\n",
        "        available_items.pop(0)\n",
        "        problem = optimization_problem(custo_maximo, \n",
        "                                   available_items, \n",
        "                                   verbose)\n",
        "        decision_variables = run_optimization(problem, verbose)\n",
        "    \n",
        "    \n",
        "    # Build list of chosen items\n",
        "    chosen_items = list()\n",
        "    for item, item_was_chosen in zip(available_items, decision_variables):\n",
        "        if item_was_chosen:\n",
        "          chosen_items.append(item)\n",
        "    return chosen_items"
      ],
      "metadata": {
        "id": "1NEz971iDXPW"
      },
      "execution_count": 83,
      "outputs": []
    },
    {
      "cell_type": "code",
      "source": [
        "chosen_items = investiment_milp(custo_maximo, available_items, verbose=True)\n",
        "items_to_table(chosen_items)"
      ],
      "metadata": {
        "id": "ykd9XSO1DkeA",
        "outputId": "bf672118-1af8-455a-9014-7c510f36683c",
        "colab": {
          "base_uri": "https://localhost:8080/",
          "height": 588
        }
      },
      "execution_count": 84,
      "outputs": [
        {
          "output_type": "stream",
          "name": "stdout",
          "text": [
            "\n",
            "\n",
            "Numbers of objectives: 1\n",
            "Linear objective coefficients (c'x):\n",
            "c =\n",
            "[[-410000 -330000 -140000 -250000 -320000 -320000  -90000 -190000]]\n",
            "Numbers of variables: 8\n",
            "\t [0.] <= x_0 <= [1.]\n",
            "\t [0.] <= x_1 <= [1.]\n",
            "\t [0.] <= x_2 <= [1.]\n",
            "\t [0.] <= x_3 <= [1.]\n",
            "\t [0.] <= x_4 <= [1.]\n",
            "\t [0.] <= x_5 <= [1.]\n",
            "\t [0.] <= x_6 <= [1.]\n",
            "\t [0.] <= x_7 <= [1.]\n",
            "Inequality Linear Constraints (A*x <= b):\n",
            "A =\n",
            "[[470000 400000 170000 270000 340000 230000  50000 440000]]\n",
            "b =\n",
            "[[1000000]]\n",
            "None\n",
            "Decision variable:[0. 1. 0. 1. 0. 1. 1. 0.]\n"
          ]
        },
        {
          "output_type": "execute_result",
          "data": {
            "text/plain": [
              "                                      Descrição  Custo ($)  Retorno ($)\n",
              "0  Ampliação da capacidade do armazém MGL em 7%     400000       330000\n",
              "1                              Projeto de P&D I     270000       250000\n",
              "2               Aquisição de novos equipamentos     230000       320000\n",
              "3                   Capacitação de funcionários      50000        90000\n",
              "4                                         Total     950000       990000"
            ],
            "text/html": [
              "\n",
              "  <div id=\"df-5d416b24-d1c1-4b7c-beb0-3f51dab5b6f0\">\n",
              "    <div class=\"colab-df-container\">\n",
              "      <div>\n",
              "<style scoped>\n",
              "    .dataframe tbody tr th:only-of-type {\n",
              "        vertical-align: middle;\n",
              "    }\n",
              "\n",
              "    .dataframe tbody tr th {\n",
              "        vertical-align: top;\n",
              "    }\n",
              "\n",
              "    .dataframe thead th {\n",
              "        text-align: right;\n",
              "    }\n",
              "</style>\n",
              "<table border=\"1\" class=\"dataframe\">\n",
              "  <thead>\n",
              "    <tr style=\"text-align: right;\">\n",
              "      <th></th>\n",
              "      <th>Descrição</th>\n",
              "      <th>Custo ($)</th>\n",
              "      <th>Retorno ($)</th>\n",
              "    </tr>\n",
              "  </thead>\n",
              "  <tbody>\n",
              "    <tr>\n",
              "      <th>0</th>\n",
              "      <td>Ampliação da capacidade do armazém MGL em 7%</td>\n",
              "      <td>400000</td>\n",
              "      <td>330000</td>\n",
              "    </tr>\n",
              "    <tr>\n",
              "      <th>1</th>\n",
              "      <td>Projeto de P&amp;D I</td>\n",
              "      <td>270000</td>\n",
              "      <td>250000</td>\n",
              "    </tr>\n",
              "    <tr>\n",
              "      <th>2</th>\n",
              "      <td>Aquisição de novos equipamentos</td>\n",
              "      <td>230000</td>\n",
              "      <td>320000</td>\n",
              "    </tr>\n",
              "    <tr>\n",
              "      <th>3</th>\n",
              "      <td>Capacitação de funcionários</td>\n",
              "      <td>50000</td>\n",
              "      <td>90000</td>\n",
              "    </tr>\n",
              "    <tr>\n",
              "      <th>4</th>\n",
              "      <td>Total</td>\n",
              "      <td>950000</td>\n",
              "      <td>990000</td>\n",
              "    </tr>\n",
              "  </tbody>\n",
              "</table>\n",
              "</div>\n",
              "      <button class=\"colab-df-convert\" onclick=\"convertToInteractive('df-5d416b24-d1c1-4b7c-beb0-3f51dab5b6f0')\"\n",
              "              title=\"Convert this dataframe to an interactive table.\"\n",
              "              style=\"display:none;\">\n",
              "        \n",
              "  <svg xmlns=\"http://www.w3.org/2000/svg\" height=\"24px\"viewBox=\"0 0 24 24\"\n",
              "       width=\"24px\">\n",
              "    <path d=\"M0 0h24v24H0V0z\" fill=\"none\"/>\n",
              "    <path d=\"M18.56 5.44l.94 2.06.94-2.06 2.06-.94-2.06-.94-.94-2.06-.94 2.06-2.06.94zm-11 1L8.5 8.5l.94-2.06 2.06-.94-2.06-.94L8.5 2.5l-.94 2.06-2.06.94zm10 10l.94 2.06.94-2.06 2.06-.94-2.06-.94-.94-2.06-.94 2.06-2.06.94z\"/><path d=\"M17.41 7.96l-1.37-1.37c-.4-.4-.92-.59-1.43-.59-.52 0-1.04.2-1.43.59L10.3 9.45l-7.72 7.72c-.78.78-.78 2.05 0 2.83L4 21.41c.39.39.9.59 1.41.59.51 0 1.02-.2 1.41-.59l7.78-7.78 2.81-2.81c.8-.78.8-2.07 0-2.86zM5.41 20L4 18.59l7.72-7.72 1.47 1.35L5.41 20z\"/>\n",
              "  </svg>\n",
              "      </button>\n",
              "      \n",
              "  <style>\n",
              "    .colab-df-container {\n",
              "      display:flex;\n",
              "      flex-wrap:wrap;\n",
              "      gap: 12px;\n",
              "    }\n",
              "\n",
              "    .colab-df-convert {\n",
              "      background-color: #E8F0FE;\n",
              "      border: none;\n",
              "      border-radius: 50%;\n",
              "      cursor: pointer;\n",
              "      display: none;\n",
              "      fill: #1967D2;\n",
              "      height: 32px;\n",
              "      padding: 0 0 0 0;\n",
              "      width: 32px;\n",
              "    }\n",
              "\n",
              "    .colab-df-convert:hover {\n",
              "      background-color: #E2EBFA;\n",
              "      box-shadow: 0px 1px 2px rgba(60, 64, 67, 0.3), 0px 1px 3px 1px rgba(60, 64, 67, 0.15);\n",
              "      fill: #174EA6;\n",
              "    }\n",
              "\n",
              "    [theme=dark] .colab-df-convert {\n",
              "      background-color: #3B4455;\n",
              "      fill: #D2E3FC;\n",
              "    }\n",
              "\n",
              "    [theme=dark] .colab-df-convert:hover {\n",
              "      background-color: #434B5C;\n",
              "      box-shadow: 0px 1px 3px 1px rgba(0, 0, 0, 0.15);\n",
              "      filter: drop-shadow(0px 1px 2px rgba(0, 0, 0, 0.3));\n",
              "      fill: #FFFFFF;\n",
              "    }\n",
              "  </style>\n",
              "\n",
              "      <script>\n",
              "        const buttonEl =\n",
              "          document.querySelector('#df-5d416b24-d1c1-4b7c-beb0-3f51dab5b6f0 button.colab-df-convert');\n",
              "        buttonEl.style.display =\n",
              "          google.colab.kernel.accessAllowed ? 'block' : 'none';\n",
              "\n",
              "        async function convertToInteractive(key) {\n",
              "          const element = document.querySelector('#df-5d416b24-d1c1-4b7c-beb0-3f51dab5b6f0');\n",
              "          const dataTable =\n",
              "            await google.colab.kernel.invokeFunction('convertToInteractive',\n",
              "                                                     [key], {});\n",
              "          if (!dataTable) return;\n",
              "\n",
              "          const docLinkHtml = 'Like what you see? Visit the ' +\n",
              "            '<a target=\"_blank\" href=https://colab.research.google.com/notebooks/data_table.ipynb>data table notebook</a>'\n",
              "            + ' to learn more about interactive tables.';\n",
              "          element.innerHTML = '';\n",
              "          dataTable['output_type'] = 'display_data';\n",
              "          await google.colab.output.renderOutput(dataTable, element);\n",
              "          const docLink = document.createElement('div');\n",
              "          docLink.innerHTML = docLinkHtml;\n",
              "          element.appendChild(docLink);\n",
              "        }\n",
              "      </script>\n",
              "    </div>\n",
              "  </div>\n",
              "  "
            ]
          },
          "metadata": {},
          "execution_count": 84
        }
      ]
    },
    {
      "cell_type": "code",
      "source": [
        ""
      ],
      "metadata": {
        "id": "pezAUeuZExPq"
      },
      "execution_count": 84,
      "outputs": []
    }
  ]
}